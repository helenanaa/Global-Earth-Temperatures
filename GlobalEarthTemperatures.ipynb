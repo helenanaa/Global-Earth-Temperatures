{
  "nbformat": 4,
  "nbformat_minor": 0,
  "metadata": {
    "colab": {
      "provenance": [],
      "authorship_tag": "ABX9TyM1TVsOwVX/h5msGgWbu+jJ",
      "include_colab_link": true
    },
    "kernelspec": {
      "name": "python3",
      "display_name": "Python 3"
    },
    "language_info": {
      "name": "python"
    }
  },
  "cells": [
    {
      "cell_type": "markdown",
      "metadata": {
        "id": "view-in-github",
        "colab_type": "text"
      },
      "source": [
        "<a href=\"https://colab.research.google.com/github/helenanaa/Global-Earth-Temperatures/blob/main/GlobalEarthTemperatures.ipynb\" target=\"_parent\"><img src=\"https://colab.research.google.com/assets/colab-badge.svg\" alt=\"Open In Colab\"/></a>"
      ]
    },
    {
      "cell_type": "code",
      "source": [],
      "metadata": {
        "id": "eNQmYVJYQ2uk"
      },
      "execution_count": null,
      "outputs": []
    },
    {
      "cell_type": "markdown",
      "source": [
        "#**GLOBAL EARTH TEMPERATURES**"
      ],
      "metadata": {
        "id": "WsE5RjD9RMnG"
      }
    },
    {
      "cell_type": "markdown",
      "source": [
        "##Business Understanding\n"
      ],
      "metadata": {
        "id": "BboI418NRkZJ"
      }
    },
    {
      "cell_type": "markdown",
      "source": [
        "##Business Objective\n",
        "\n",
        "Tujuan bisnis dari dataset ini adalah memantau dan menganalisis iklim, mengembangan solusi untuk mitiasi dan adaptasi perubahan iklim, meningkatkan kesdaran dan pemahaman tentang perubahan iklim, dan memperkuat kerjasama internasional."
      ],
      "metadata": {
        "id": "5MUejlZjRtdZ"
      }
    },
    {
      "cell_type": "markdown",
      "source": [
        "##Asses Situation\n",
        "\n",
        "Dataset ini merupakan sumber informasi yang berharga bagi berbagai pihak yang ingin memahami, memantau, dan mengatasi perubahan iklim."
      ],
      "metadata": {
        "id": "-P-D93cIS-Vo"
      }
    },
    {
      "cell_type": "markdown",
      "source": [
        "##Data Mining Goals\n",
        "\n",
        "Tujuan dari data mining pada dataset ini adalah untuk mendapatkan wawasan yang berharga tentang pola dan tren dalam perubahan suhu global serta faktor-faktor yang mempengaruhinya."
      ],
      "metadata": {
        "id": "0ma5sdTnjMiu"
      }
    },
    {
      "cell_type": "markdown",
      "source": [
        "##Project Plan\n",
        "\n",
        "Rencana dari proyek untuk menganalisis dataset ini dimulai dari pengumpulan/menggabungkan data dari berbagai sumber yang ada. selanjutnya pemrosesan data untuk memeriksa kualitas data. pengembangan alat untuk visualisasi dan analisis data bumi dan membangun antarmuka pengguna yang intutif untuk mengakses data. selain itu, memperbarui dataset secara berkala dengan data baru dan memantau kualitas data atau melakukan perbaikan jika dibutuhkan."
      ],
      "metadata": {
        "id": "tHIGNDrkpA96"
      }
    }
  ]
}